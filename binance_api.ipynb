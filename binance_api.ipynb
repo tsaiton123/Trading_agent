{
 "cells": [
  {
   "cell_type": "code",
   "execution_count": 54,
   "metadata": {},
   "outputs": [],
   "source": [
    "import json\n",
    "import websocket\n",
    "import pandas as pd\n",
    "from sqlalchemy import create_engine\n",
    "engine = create_engine('sqlite:///data.db', echo=False) \n"
   ]
  },
  {
   "cell_type": "markdown",
   "metadata": {},
   "source": [
    "# Get the info of btusdt"
   ]
  },
  {
   "cell_type": "code",
   "execution_count": 45,
   "metadata": {},
   "outputs": [],
   "source": [
    "assets = ['BTCUSDT']\n",
    "assets = [coin.lower() + '@kline_1m' for coin in assets]\n",
    "assets = '/'.join(assets)"
   ]
  },
  {
   "cell_type": "code",
   "execution_count": 46,
   "metadata": {},
   "outputs": [],
   "source": [
    "def manipulation(source):\n",
    "    data = source['k']['c']\n",
    "    event_time = pd.to_datetime(source['E'], unit='ms')\n",
    "    df = pd.DataFrame(data, columns=[source['s']], index=[event_time])\n",
    "    df.index.name = 'timestamp'\n",
    "    df = df.astype(float)\n",
    "    df = df.reset_index()\n",
    "    print(df)\n",
    "    return df\n"
   ]
  },
  {
   "cell_type": "code",
   "execution_count": 58,
   "metadata": {},
   "outputs": [],
   "source": [
    "def on_message(ws, message):\n",
    "    message = json.loads(message)\n",
    "    df = manipulation(message)\n",
    "    df.to_sql('BTCUSDT', engine, if_exists='append', index=False)\n",
    "    \n",
    "    #print(message)"
   ]
  },
  {
   "cell_type": "code",
   "execution_count": 40,
   "metadata": {},
   "outputs": [
    {
     "data": {
      "text/plain": [
       "{'e': 'kline',\n",
       " 'E': 1703222845768,\n",
       " 's': 'BNBUSDT',\n",
       " 'k': {'t': 1703222820000,\n",
       "  'T': 1703222879999,\n",
       "  's': 'BNBUSDT',\n",
       "  'i': '1m',\n",
       "  'f': 693150197,\n",
       "  'L': 693150274,\n",
       "  'o': '275.20000000',\n",
       "  'c': '275.00000000',\n",
       "  'h': '275.20000000',\n",
       "  'l': '275.00000000',\n",
       "  'v': '569.23700000',\n",
       "  'n': 78,\n",
       "  'x': False,\n",
       "  'q': '156575.51800000',\n",
       "  'V': '143.81900000',\n",
       "  'Q': '39567.02630000',\n",
       "  'B': '0'}}"
      ]
     },
     "execution_count": 40,
     "metadata": {},
     "output_type": "execute_result"
    }
   ],
   "source": [
    "source"
   ]
  },
  {
   "cell_type": "code",
   "execution_count": 49,
   "metadata": {},
   "outputs": [],
   "source": [
    "sockets = 'wss://stream.binance.com:9443/ws/' + assets"
   ]
  },
  {
   "cell_type": "code",
   "execution_count": 59,
   "metadata": {},
   "outputs": [
    {
     "name": "stdout",
     "output_type": "stream",
     "text": [
      "                timestamp   BTCUSDT\n",
      "0 2023-12-22 17:10:25.410  43627.86\n",
      "aaa\n",
      "                timestamp   BTCUSDT\n",
      "0 2023-12-22 17:10:27.515  43627.85\n",
      "aaa\n"
     ]
    },
    {
     "data": {
      "text/plain": [
       "True"
      ]
     },
     "execution_count": 59,
     "metadata": {},
     "output_type": "execute_result"
    }
   ],
   "source": [
    "ws = websocket.WebSocketApp(sockets, on_message=on_message)\n",
    "ws.run_forever()"
   ]
  }
 ],
 "metadata": {
  "kernelspec": {
   "display_name": "final",
   "language": "python",
   "name": "python3"
  },
  "language_info": {
   "codemirror_mode": {
    "name": "ipython",
    "version": 3
   },
   "file_extension": ".py",
   "mimetype": "text/x-python",
   "name": "python",
   "nbconvert_exporter": "python",
   "pygments_lexer": "ipython3",
   "version": "3.10.13"
  }
 },
 "nbformat": 4,
 "nbformat_minor": 2
}
