{
 "cells": [
  {
   "cell_type": "code",
   "execution_count": 1,
   "metadata": {},
   "outputs": [],
   "source": [
    "from firstrade import account, order, symbols\n",
    "import os\n",
    "import sys\n",
    "import json\n",
    "import time\n",
    "import datetime\n",
    "import logging\n",
    "import argparse\n",
    "import requests\n",
    "import pandas as pd\n",
    "import numpy as np\n",
    "import matplotlib.pyplot as plt\n",
    "import matplotlib.dates as mdates\n",
    "import tkinter as tk"
   ]
  },
  {
   "cell_type": "code",
   "execution_count": 2,
   "metadata": {},
   "outputs": [],
   "source": [
    "root = tk.Tk()\n",
    "label = tk.Label(root, text=\"Hello, Tkinter!\")\n",
    "label.pack()\n",
    "root.mainloop()"
   ]
  },
  {
   "cell_type": "code",
   "execution_count": 10,
   "metadata": {},
   "outputs": [
    {
     "name": "stdout",
     "output_type": "stream",
     "text": [
      "[{'87888259': {'Balance': '$12,287.53', 'Status': {'primary': True, 'domestic': False, 'joint': False, 'ira': False, 'hasMargin': False, 'opLevel': 2, 'p_country': 'TAIWAN', 'mrgnStatus': 'eligible', 'opStatus': 'eligible', 'margin_id': None}}}]\n",
      "87888259\n",
      "['$12,287.53']\n"
     ]
    }
   ],
   "source": [
    "# Create a session\n",
    "ft_ss = account.FTSession(username=\"tsaiton123\", password=\"Dodo5458\", pin=\"5458\")\n",
    "\n",
    "# Get account data\n",
    "ft_accounts = account.FTAccountData(ft_ss)\n",
    "if len(ft_accounts.account_numbers) < 1:\n",
    "    raise Exception(\"No accounts found or an error occured exiting...\")\n",
    "\n",
    "# Print ALL account data\n",
    "print(ft_accounts.all_accounts)\n",
    "\n",
    "# Print 1st account number.\n",
    "print(ft_accounts.account_numbers[0])\n",
    "\n",
    "# Print ALL accounts market values.\n",
    "print(ft_accounts.account_balances)\n"
   ]
  },
  {
   "cell_type": "code",
   "execution_count": 12,
   "metadata": {},
   "outputs": [
    {
     "name": "stdout",
     "output_type": "stream",
     "text": [
      "Symbol: INTC\n",
      "Exchange: NASDAQ\n",
      "Bid: 30.65\n",
      "Ask: 30.66\n",
      "Last: 30.6599\n",
      "Change: -0.3201\n",
      "High: 31.47\n",
      "Low: 30.6\n",
      "Volume: 15,569,525\n",
      "Company Name: Intel Corporation  \n"
     ]
    }
   ],
   "source": [
    "# Get quote for INTC\n",
    "quote = symbols.SymbolQuote(ft_ss, \"INTC\")\n",
    "print(f\"Symbol: {quote.symbol}\")\n",
    "print(f\"Exchange: {quote.exchange}\")\n",
    "print(f\"Bid: {quote.bid}\")\n",
    "print(f\"Ask: {quote.ask}\")\n",
    "print(f\"Last: {quote.last}\")\n",
    "print(f\"Change: {quote.change}\")\n",
    "print(f\"High: {quote.high}\")\n",
    "print(f\"Low: {quote.low}\")\n",
    "print(f\"Volume: {quote.volume}\")\n",
    "print(f\"Company Name: {quote.company_name}\")\n",
    "\n",
    "\n"
   ]
  },
  {
   "cell_type": "code",
   "execution_count": 10,
   "metadata": {},
   "outputs": [
    {
     "name": "stdout",
     "output_type": "stream",
     "text": [
      "Symbol: TSLA\n",
      "Exchange: NASDAQ\n",
      "Bid: 201.01\n",
      "Ask: 201.04\n",
      "Last: 201.02\n",
      "Change: 9.05\n",
      "High: 201.78\n",
      "Low: 192.0\n",
      "Volume: 66,173,084\n",
      "Company Name: Tesla Inc.  \n",
      "\n",
      "\n",
      "Symbol: TSLA\n",
      "Exchange: NASDAQ\n",
      "Bid: 201.38\n",
      "Ask: 201.4\n",
      "Last: 201.41\n",
      "Change: 9.44\n",
      "High: 201.78\n",
      "Low: 192.0\n",
      "Volume: 66,379,872\n",
      "Company Name: Tesla Inc.  \n",
      "\n",
      "\n",
      "Symbol: TSLA\n",
      "Exchange: NASDAQ\n",
      "Bid: 201.37\n",
      "Ask: 201.38\n",
      "Last: 201.37\n",
      "Change: 9.4\n",
      "High: 201.78\n",
      "Low: 192.0\n",
      "Volume: 66,657,318\n",
      "Company Name: Tesla Inc.  \n",
      "\n",
      "\n"
     ]
    }
   ],
   "source": [
    "# fetch the price of TSLA every 1 minute\n",
    "while True:\n",
    "    quote = symbols.SymbolQuote(ft_ss, \"TSLA\")\n",
    "    print(f\"Symbol: {quote.symbol}\")\n",
    "    print(f\"Exchange: {quote.exchange}\")\n",
    "    print(f\"Bid: {quote.bid}\")\n",
    "    print(f\"Ask: {quote.ask}\")\n",
    "    print(f\"Last: {quote.last}\")\n",
    "    print(f\"Change: {quote.change}\")\n",
    "    print(f\"High: {quote.high}\")\n",
    "    print(f\"Low: {quote.low}\")\n",
    "    print(f\"Volume: {quote.volume}\")\n",
    "    print(f\"Company Name: {quote.company_name}\")\n",
    "    print(\"\\n\")\n",
    "    time.sleep(60)"
   ]
  },
  {
   "cell_type": "code",
   "execution_count": 3,
   "metadata": {},
   "outputs": [
    {
     "name": "stdout",
     "output_type": "stream",
     "text": [
      "Quantity 20 of security PLTR held in account 87888259\n",
      "Quantity 15 of security TLT held in account 87888259\n",
      "Quantity 60 of security QS held in account 87888259\n",
      "Quantity 10 of security SHOP held in account 87888259\n",
      "Quantity 400 of security SLDP held in account 87888259\n",
      "Quantity 3 of security TSLA held in account 87888259\n",
      "Quantity 40 of security ZIM held in account 87888259\n",
      "Quantity 20 of security UPST held in account 87888259\n"
     ]
    }
   ],
   "source": [
    "# Get positions and print them out for an account.\n",
    "positions = ft_accounts.get_positions(account=ft_accounts.account_numbers[0])\n",
    "for key in ft_accounts.securities_held:\n",
    "    print(\n",
    "        f\"Quantity {ft_accounts.securities_held[key]['quantity']} of security {key} held in account {ft_accounts.account_numbers[0]}\"\n",
    "    )"
   ]
  },
  {
   "cell_type": "code",
   "execution_count": 25,
   "metadata": {},
   "outputs": [
    {
     "name": "stdout",
     "output_type": "stream",
     "text": [
      "{'success': 'Yes', 'Transaction': 'Buy', 'Shares': '1', 'Symbol': 'INTC', 'Price': 'Market', 'Duration': 'DAY', 'Instruction': '', 'Estimated Commission': '$0.00', 'Estimated Total': '$43.01', 'orderid': '87888259-234', 'errcode': '1000'}\n",
      "Order placed successfully.\n",
      "Order ID: 87888259-234.\n"
     ]
    }
   ],
   "source": [
    "# Create an order object.\n",
    "ft_order = order.Order(ft_ss)\n",
    "\n",
    "# Place order and print out order confirmation data.\n",
    "ft_order.place_order(\n",
    "    ft_accounts.account_numbers[0],\n",
    "    symbol=\"INTC\",\n",
    "    price_type=order.PriceType.MARKET,\n",
    "    order_type=order.OrderType.BUY,\n",
    "    quantity=1,\n",
    "    duration=order.Duration.DAY,\n",
    "    dry_run=False,\n",
    ")\n",
    "\n",
    "# Print Order data Dict\n",
    "print(ft_order.order_confirmation)\n",
    "\n",
    "# Check if order was successful\n",
    "if ft_order.order_confirmation[\"success\"] == \"Yes\":\n",
    "    print(\"Order placed successfully.\")\n",
    "    # Print Order ID\n",
    "    print(f\"Order ID: {ft_order.order_confirmation['orderid']}.\")\n",
    "else:\n",
    "    print(\"Failed to place order.\")\n",
    "    # Print errormessage\n",
    "    print(ft_order.order_confirmation[\"actiondata\"])\n",
    "# # Delete cookies\n",
    "# ft_ss.delete_cookies()\n",
    "\n",
    "#"
   ]
  },
  {
   "cell_type": "code",
   "execution_count": null,
   "metadata": {},
   "outputs": [],
   "source": [
    "# set up a max fund limit\n",
    "max_fund = 1000\n"
   ]
  }
 ],
 "metadata": {
  "kernelspec": {
   "display_name": "final",
   "language": "python",
   "name": "python3"
  },
  "language_info": {
   "codemirror_mode": {
    "name": "ipython",
    "version": 3
   },
   "file_extension": ".py",
   "mimetype": "text/x-python",
   "name": "python",
   "nbconvert_exporter": "python",
   "pygments_lexer": "ipython3",
   "version": "3.12.4"
  }
 },
 "nbformat": 4,
 "nbformat_minor": 2
}
